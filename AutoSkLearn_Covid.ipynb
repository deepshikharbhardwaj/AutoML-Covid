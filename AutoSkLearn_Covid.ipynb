{
  "nbformat": 4,
  "nbformat_minor": 0,
  "metadata": {
    "colab": {
      "name": "AutoSkLearn Covid.ipynb",
      "provenance": []
    },
    "kernelspec": {
      "name": "python3",
      "display_name": "Python 3"
    },
    "language_info": {
      "name": "python"
    }
  },
  "cells": [
    {
      "cell_type": "code",
      "metadata": {
        "id": "KGOZBOxKCvto"
      },
      "source": [
        "# print autosklearn version\n",
        "import autosklearn\n",
        "print('autosklearn: %s' % autosklearn.__version__)"
      ],
      "execution_count": null,
      "outputs": []
    },
    {
      "cell_type": "code",
      "metadata": {
        "id": "PWMj3K9bC2d0"
      },
      "source": [
        "!sudo apt-get install build-essential swig\n",
        "!pip install auto-sklearn==0.11.1"
      ],
      "execution_count": null,
      "outputs": []
    },
    {
      "cell_type": "code",
      "metadata": {
        "colab": {
          "base_uri": "https://localhost:8080/"
        },
        "id": "ck8wfR8bHwcB",
        "outputId": "702a5c6e-e45f-4295-cf97-f1966b3b3e7f"
      },
      "source": [
        "url = 'https://raw.githubusercontent.com/deepshikharbhardwaj/Corona_Virus_Predictor/master/Corona_DataSet.csv'\n",
        "dataframe = read_csv(url, header=None)\n",
        "# print(dataframe.head())\n",
        "# split into input and output elements\n",
        "data = dataframe.values\n",
        "X, y = data[1:, :-1], data[1:, -1]\n",
        "# minimally prepare dataset\n",
        "X = X.astype('float32')\n",
        "y = LabelEncoder().fit_transform(y.astype('str'))\n",
        "# split into train and test sets\n",
        "X_train, X_test, y_train, y_test = train_test_split(X, y, test_size=0.33, random_state=1)\n",
        "# define search\n",
        "model = AutoSklearnClassifier(time_left_for_this_task=5*60, per_run_time_limit=30, n_jobs=8)\n",
        "# perform the search\n",
        "model.fit(X_train, y_train)\n",
        "# summarize\n",
        "print(model.sprint_statistics())\n",
        "# evaluate best model\n",
        "y_hat = model.predict(X_test)\n",
        "acc = accuracy_score(y_test, y_hat)\n",
        "print(\"Accuracy: %.3f\" % acc)"
      ],
      "execution_count": 9,
      "outputs": [
        {
          "output_type": "stream",
          "text": [
            "auto-sklearn results:\n",
            "  Dataset name: 6de8eedfecf2c664eb06b490a1ef362f\n",
            "  Metric: accuracy\n",
            "  Best validation score: 0.615385\n",
            "  Number of target algorithm runs: 44\n",
            "  Number of successful target algorithm runs: 29\n",
            "  Number of crashed target algorithm runs: 13\n",
            "  Number of target algorithms that exceeded the time limit: 2\n",
            "  Number of target algorithms that exceeded the memory limit: 0\n",
            "\n",
            "Accuracy: 0.105\n"
          ],
          "name": "stdout"
        }
      ]
    },
    {
      "cell_type": "code",
      "metadata": {
        "colab": {
          "base_uri": "https://localhost:8080/"
        },
        "id": "iPPr_cYSKZ30",
        "outputId": "e5868f75-d61b-48f6-d9de-99eb0d218fd9"
      },
      "source": [
        "model"
      ],
      "execution_count": 11,
      "outputs": [
        {
          "output_type": "stream",
          "text": [
            "/usr/local/lib/python3.7/dist-packages/sklearn/base.py:197: FutureWarning: From version 0.24, get_params will raise an AttributeError if a parameter cannot be retrieved as an instance attribute. Previously it would return None.\n",
            "  FutureWarning)\n"
          ],
          "name": "stderr"
        },
        {
          "output_type": "execute_result",
          "data": {
            "text/plain": [
              "AutoSklearnClassifier(dask_client=None,\n",
              "                      delete_output_folder_after_terminate=True,\n",
              "                      delete_tmp_folder_after_terminate=True,\n",
              "                      disable_evaluator_output=False, ensemble_nbest=50,\n",
              "                      ensemble_size=50, exclude_estimators=None,\n",
              "                      exclude_preprocessors=None, get_smac_object_callback=None,\n",
              "                      include_estimators=None, include_preprocessors=None,\n",
              "                      initial_configurations_via_metalearning=25,\n",
              "                      load_models=None, logging_config=None,\n",
              "                      max_models_on_disc=50, memory_limit=3072,\n",
              "                      metadata_directory=None, metric=None, n_jobs=8,\n",
              "                      output_folder=None, per_run_time_limit=30,\n",
              "                      resampling_strategy='holdout',\n",
              "                      resampling_strategy_arguments=None, seed=1,\n",
              "                      smac_scenario_args=None, time_left_for_this_task=300,\n",
              "                      tmp_folder=None)"
            ]
          },
          "metadata": {
            "tags": []
          },
          "execution_count": 11
        }
      ]
    }
  ]
}