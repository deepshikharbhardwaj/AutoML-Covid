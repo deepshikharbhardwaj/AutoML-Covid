{
  "nbformat": 4,
  "nbformat_minor": 0,
  "metadata": {
    "colab": {
      "name": "AutoSkLearn Covid.ipynb",
      "provenance": [],
      "authorship_tag": "ABX9TyO+i3FFBCzV2LuWQjYVQvOn",
      "include_colab_link": true
    },
    "kernelspec": {
      "name": "python3",
      "display_name": "Python 3"
    },
    "language_info": {
      "name": "python"
    }
  },
  "cells": [
    {
      "cell_type": "markdown",
      "metadata": {
        "id": "view-in-github",
        "colab_type": "text"
      },
      "source": [
        "<a href=\"https://colab.research.google.com/github/deepshikharbhardwaj/AutoML-Covid/blob/main/AutoSkLearn_Covid.ipynb\" target=\"_parent\"><img src=\"https://colab.research.google.com/assets/colab-badge.svg\" alt=\"Open In Colab\"/></a>"
      ]
    },
    {
      "cell_type": "code",
      "metadata": {
        "colab": {
          "base_uri": "https://localhost:8080/"
        },
        "id": "KGOZBOxKCvto",
        "outputId": "1c271670-0e0d-4a24-c142-d0096b3fa1aa"
      },
      "source": [
        "# print autosklearn version\n",
        "import autosklearn\n",
        "print('autosklearn: %s' % autosklearn.__version__)"
      ],
      "execution_count": 40,
      "outputs": [
        {
          "output_type": "stream",
          "text": [
            "autosklearn: 0.11.1\n"
          ],
          "name": "stdout"
        }
      ]
    },
    {
      "cell_type": "code",
      "metadata": {
        "colab": {
          "base_uri": "https://localhost:8080/"
        },
        "id": "PWMj3K9bC2d0",
        "outputId": "f0c5a183-86bb-4a9c-d51e-e70d03191bc4"
      },
      "source": [
        "!sudo apt-get install build-essential swig\n",
        "!pip install auto-sklearn==0.11.1"
      ],
      "execution_count": 41,
      "outputs": [
        {
          "output_type": "stream",
          "text": [
            "Reading package lists... Done\n",
            "Building dependency tree       \n",
            "Reading state information... Done\n",
            "build-essential is already the newest version (12.4ubuntu1).\n",
            "swig is already the newest version (3.0.12-1).\n",
            "0 upgraded, 0 newly installed, 0 to remove and 30 not upgraded.\n",
            "Requirement already satisfied: auto-sklearn==0.11.1 in /usr/local/lib/python3.7/dist-packages (0.11.1)\n",
            "Requirement already satisfied: smac<0.14,>=0.13.1 in /usr/local/lib/python3.7/dist-packages (from auto-sklearn==0.11.1) (0.13.1)\n",
            "Requirement already satisfied: liac-arff in /usr/local/lib/python3.7/dist-packages (from auto-sklearn==0.11.1) (2.5.0)\n",
            "Requirement already satisfied: pynisher>=0.6.1 in /usr/local/lib/python3.7/dist-packages (from auto-sklearn==0.11.1) (0.6.4)\n",
            "Requirement already satisfied: lockfile in /usr/local/lib/python3.7/dist-packages (from auto-sklearn==0.11.1) (0.12.2)\n",
            "Requirement already satisfied: numpy>=1.9.0 in /usr/local/lib/python3.7/dist-packages (from auto-sklearn==0.11.1) (1.19.5)\n",
            "Requirement already satisfied: pandas>=1.0 in /usr/local/lib/python3.7/dist-packages (from auto-sklearn==0.11.1) (1.2.3)\n",
            "Requirement already satisfied: dask in /usr/local/lib/python3.7/dist-packages (from auto-sklearn==0.11.1) (2021.4.0)\n",
            "Requirement already satisfied: scipy>=0.14.1 in /usr/local/lib/python3.7/dist-packages (from auto-sklearn==0.11.1) (1.5.4)\n",
            "Requirement already satisfied: ConfigSpace<0.5,>=0.4.14 in /usr/local/lib/python3.7/dist-packages (from auto-sklearn==0.11.1) (0.4.18)\n",
            "Requirement already satisfied: distributed>=2.2.0 in /usr/local/lib/python3.7/dist-packages (from auto-sklearn==0.11.1) (2021.4.0)\n",
            "Requirement already satisfied: pyrfr<0.9,>=0.7 in /usr/local/lib/python3.7/dist-packages (from auto-sklearn==0.11.1) (0.8.1)\n",
            "Requirement already satisfied: joblib in /usr/local/lib/python3.7/dist-packages (from auto-sklearn==0.11.1) (1.0.1)\n",
            "Requirement already satisfied: setuptools in /usr/local/lib/python3.7/dist-packages (from auto-sklearn==0.11.1) (54.2.0)\n",
            "Requirement already satisfied: pyyaml in /usr/local/lib/python3.7/dist-packages (from auto-sklearn==0.11.1) (3.13)\n",
            "Requirement already satisfied: scikit-learn<0.23,>=0.22.0 in /usr/local/lib/python3.7/dist-packages (from auto-sklearn==0.11.1) (0.22.2.post1)\n",
            "Requirement already satisfied: psutil in /usr/local/lib/python3.7/dist-packages (from smac<0.14,>=0.13.1->auto-sklearn==0.11.1) (5.4.8)\n",
            "Requirement already satisfied: lazy-import in /usr/local/lib/python3.7/dist-packages (from smac<0.14,>=0.13.1->auto-sklearn==0.11.1) (0.2.2)\n",
            "Requirement already satisfied: pytz>=2017.3 in /usr/local/lib/python3.7/dist-packages (from pandas>=1.0->auto-sklearn==0.11.1) (2018.9)\n",
            "Requirement already satisfied: python-dateutil>=2.7.3 in /usr/local/lib/python3.7/dist-packages (from pandas>=1.0->auto-sklearn==0.11.1) (2.8.1)\n",
            "Requirement already satisfied: toolz>=0.8.2 in /usr/local/lib/python3.7/dist-packages (from dask->auto-sklearn==0.11.1) (0.11.1)\n",
            "Requirement already satisfied: partd>=0.3.10 in /usr/local/lib/python3.7/dist-packages (from dask->auto-sklearn==0.11.1) (1.1.0)\n",
            "Requirement already satisfied: fsspec>=0.6.0 in /usr/local/lib/python3.7/dist-packages (from dask->auto-sklearn==0.11.1) (0.8.7)\n",
            "Requirement already satisfied: cloudpickle>=1.1.1 in /usr/local/lib/python3.7/dist-packages (from dask->auto-sklearn==0.11.1) (1.6.0)\n",
            "Requirement already satisfied: pyparsing in /usr/local/lib/python3.7/dist-packages (from ConfigSpace<0.5,>=0.4.14->auto-sklearn==0.11.1) (2.4.7)\n",
            "Requirement already satisfied: cython in /usr/local/lib/python3.7/dist-packages (from ConfigSpace<0.5,>=0.4.14->auto-sklearn==0.11.1) (0.29.22)\n",
            "Requirement already satisfied: sortedcontainers!=2.0.0,!=2.0.1 in /usr/local/lib/python3.7/dist-packages (from distributed>=2.2.0->auto-sklearn==0.11.1) (2.3.0)\n",
            "Requirement already satisfied: click>=6.6 in /usr/local/lib/python3.7/dist-packages (from distributed>=2.2.0->auto-sklearn==0.11.1) (7.1.2)\n",
            "Requirement already satisfied: msgpack>=0.6.0 in /usr/local/lib/python3.7/dist-packages (from distributed>=2.2.0->auto-sklearn==0.11.1) (1.0.2)\n",
            "Requirement already satisfied: zict>=0.1.3 in /usr/local/lib/python3.7/dist-packages (from distributed>=2.2.0->auto-sklearn==0.11.1) (2.0.0)\n",
            "Requirement already satisfied: tornado>=5; python_version < \"3.8\" in /usr/local/lib/python3.7/dist-packages (from distributed>=2.2.0->auto-sklearn==0.11.1) (5.1.1)\n",
            "Requirement already satisfied: tblib>=1.6.0 in /usr/local/lib/python3.7/dist-packages (from distributed>=2.2.0->auto-sklearn==0.11.1) (1.7.0)\n",
            "Requirement already satisfied: six in /usr/local/lib/python3.7/dist-packages (from lazy-import->smac<0.14,>=0.13.1->auto-sklearn==0.11.1) (1.15.0)\n",
            "Requirement already satisfied: locket in /usr/local/lib/python3.7/dist-packages (from partd>=0.3.10->dask->auto-sklearn==0.11.1) (0.2.1)\n",
            "Requirement already satisfied: importlib-metadata; python_version < \"3.8\" in /usr/local/lib/python3.7/dist-packages (from fsspec>=0.6.0->dask->auto-sklearn==0.11.1) (3.8.1)\n",
            "Requirement already satisfied: heapdict in /usr/local/lib/python3.7/dist-packages (from zict>=0.1.3->distributed>=2.2.0->auto-sklearn==0.11.1) (1.0.1)\n",
            "Requirement already satisfied: typing-extensions>=3.6.4; python_version < \"3.8\" in /usr/local/lib/python3.7/dist-packages (from importlib-metadata; python_version < \"3.8\"->fsspec>=0.6.0->dask->auto-sklearn==0.11.1) (3.7.4.3)\n",
            "Requirement already satisfied: zipp>=0.5 in /usr/local/lib/python3.7/dist-packages (from importlib-metadata; python_version < \"3.8\"->fsspec>=0.6.0->dask->auto-sklearn==0.11.1) (3.4.1)\n"
          ],
          "name": "stdout"
        }
      ]
    },
    {
      "cell_type": "code",
      "metadata": {
        "colab": {
          "base_uri": "https://localhost:8080/"
        },
        "id": "iPPr_cYSKZ30",
        "outputId": "c578b6ca-d66b-4de9-c83e-63d19410c4a7"
      },
      "source": [
        "from pandas import read_csv\n",
        "from sklearn.model_selection import train_test_split\n",
        "from sklearn.preprocessing import LabelEncoder\n",
        "from sklearn.metrics import accuracy_score\n",
        "from autosklearn.classification import AutoSklearnClassifier\n",
        "from autosklearn.regression import AutoSklearnRegressor\n",
        "\n",
        "url = 'https://raw.githubusercontent.com/deepshikharbhardwaj/Corona_Virus_Predictor/master/Corona_DataSet.csv'\n",
        "dataframe = read_csv(url, header=None)\n",
        "# print(dataframe.head())\n",
        "# split into input and output elements\n",
        "data = dataframe.values\n",
        "X, y = data[1:, :-1], data[1:, -1]\n",
        "# minimally prepare dataset\n",
        "X = X.astype('float32')\n",
        "y = y.astype('float32')\n",
        "#y = LabelEncoder().fit_transform(y.astype('str'))\n",
        "# split into train and test sets\n",
        "X_train, X_test, y_train, y_test = train_test_split(X, y, test_size=0.33, random_state=1)\n",
        "# define search\n",
        "model = AutoSklearnRegressor()\n",
        "model = AutoSklearnRegressor(time_left_for_this_task=5*60, per_run_time_limit=30, n_jobs=8)\n",
        "# perform the search\n",
        "model.fit(X_train, y_train)\n",
        "# summarize\n",
        "print(model.sprint_statistics())\n",
        "# evaluate best model\n",
        "y_hat = model.predict(X_test)"
      ],
      "execution_count": 74,
      "outputs": [
        {
          "output_type": "stream",
          "text": [
            "auto-sklearn results:\n",
            "  Dataset name: 6de8eedfecf2c664eb06b490a1ef362f\n",
            "  Metric: r2\n",
            "  Best validation score: 0.999517\n",
            "  Number of target algorithm runs: 44\n",
            "  Number of successful target algorithm runs: 34\n",
            "  Number of crashed target algorithm runs: 6\n",
            "  Number of target algorithms that exceeded the time limit: 4\n",
            "  Number of target algorithms that exceeded the memory limit: 0\n",
            "\n"
          ],
          "name": "stdout"
        }
      ]
    },
    {
      "cell_type": "code",
      "metadata": {
        "colab": {
          "base_uri": "https://localhost:8080/"
        },
        "id": "rJAjgrsobRzo",
        "outputId": "e6792fe3-b2fe-4ec2-8c0d-b22a67913f9c"
      },
      "source": [
        "from sklearn.metrics import r2_score\n",
        "r2_score( y_test, y_hat )"
      ],
      "execution_count": 91,
      "outputs": [
        {
          "output_type": "execute_result",
          "data": {
            "text/plain": [
              "0.9978869184686892"
            ]
          },
          "metadata": {
            "tags": []
          },
          "execution_count": 91
        }
      ]
    },
    {
      "cell_type": "code",
      "metadata": {
        "colab": {
          "base_uri": "https://localhost:8080/"
        },
        "id": "wfonzPijdOni",
        "outputId": "0052c7eb-5580-43b1-8a60-55ea87f48f11"
      },
      "source": [
        "r2_score([1,1,1,0],[1,1,1,0.1])"
      ],
      "execution_count": 94,
      "outputs": [
        {
          "output_type": "execute_result",
          "data": {
            "text/plain": [
              "0.9866666666666667"
            ]
          },
          "metadata": {
            "tags": []
          },
          "execution_count": 94
        }
      ]
    }
  ]
}